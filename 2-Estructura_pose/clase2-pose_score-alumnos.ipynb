{
  "cells": [
    {
      "cell_type": "markdown",
      "metadata": {
        "id": "view-in-github",
        "colab_type": "text"
      },
      "source": [
        "<a href=\"https://colab.research.google.com/github/amoyag/Bioquimica_Ing_Proteinas/blob/main/2-Estructura_pose/clase2-pose_score-alumnos.ipynb\" target=\"_parent\"><img src=\"https://colab.research.google.com/assets/colab-badge.svg\" alt=\"Open In Colab\"/></a>"
      ]
    },
    {
      "cell_type": "markdown",
      "metadata": {
        "id": "-iqqxGyCw4KE"
      },
      "source": [
        "<!--NOTEBOOK_HEADER-->\n",
        "*This notebook contains material from [PyRosetta](https://RosettaCommons.github.io/PyRosetta.notebooks);\n",
        "content is available [on Github](https://github.com/RosettaCommons/PyRosetta.notebooks.git).*"
      ]
    },
    {
      "cell_type": "markdown",
      "metadata": {
        "id": "DoEzbf1Nw4KI"
      },
      "source": [
        "# Working with Pose residues\n",
        "Keywords: total_residue(), chain(), number(), pdb2pose(), pose2pdb(), conformation(), bond_length(), AtomID, atom_index(), pose_from_sequence(), bond_angle(), set_phi(), set_psi(), xyz(), score function, ScoreFunction(), get_score_function(), set_weight(), show(), etable_atom_pair_energies(), Atom objects, get_hbonds(), nhbonds(), residue_hbonds()"
      ]
    },
    {
      "cell_type": "markdown",
      "metadata": {
        "id": "gU5B1Cqyw4KI"
      },
      "source": [
        "## Install and init PyRosetta"
      ]
    },
    {
      "cell_type": "code",
      "execution_count": null,
      "metadata": {
        "id": "ym4fh9vrw4KI"
      },
      "outputs": [],
      "source": [
        "!pip install pyrosettacolabsetup\n",
        "import pyrosettacolabsetup; pyrosettacolabsetup.install_pyrosetta()\n",
        "import pyrosetta; pyrosetta.init()\n",
        "\n",
        "from pyrosetta import *\n",
        "init()\n",
        "#import os\n",
        "# notebook_path = os.path.abspath(\"clase2-pose_score.ipynb\")\n"
      ]
    },
    {
      "cell_type": "markdown",
      "metadata": {
        "id": "Pumnlt3bw4KK"
      },
      "source": [
        "## Load pdb files"
      ]
    },
    {
      "cell_type": "code",
      "execution_count": null,
      "metadata": {
        "scrolled": false,
        "id": "u7cOc424w4KK"
      },
      "outputs": [],
      "source": [
        "pdb_file = \"PATH_TO_FILE/5tj3.pdb\"\n",
        "clean_pdb_file = \"PATH_TO_FILE/5tj3.clean.pdb\"\n",
        "pose = pose_from_pdb(pdb_file)\n",
        "pose_clean = pose_from_pdb(clean_pdb_file)"
      ]
    },
    {
      "cell_type": "markdown",
      "metadata": {
        "id": "k3BUB7iMw4KK"
      },
      "source": [
        "## Working with poses"
      ]
    },
    {
      "cell_type": "markdown",
      "metadata": {
        "id": "3AJNV_rrw4KL"
      },
      "source": [
        "   We can use methods in `Pose` to count residues and pick out residues from the pose. Remember that `Pose` is a python class, and to access methods it implements, you need an instance of the class (here `pose` or `pose_clean`) and you then use a dot after the instance."
      ]
    },
    {
      "cell_type": "code",
      "execution_count": null,
      "metadata": {
        "scrolled": true,
        "id": "iCh2VGWdw4KL"
      },
      "outputs": [],
      "source": [
        "print(pose.total_residue())\n",
        "print(pose_clean.total_residue())\n",
        "# Did you catch all the missing residues before?"
      ]
    },
    {
      "cell_type": "markdown",
      "metadata": {
        "id": "3LC8D7oyw4KL"
      },
      "source": [
        " Store the `Residue` information for residue 20 of the pose by using the `pose.residue(20)` function."
      ]
    },
    {
      "cell_type": "code",
      "execution_count": null,
      "metadata": {
        "nbgrader": {
          "grade": true,
          "grade_id": "cell-b4a65f9eb1e72d02",
          "locked": false,
          "points": 0,
          "schema_version": 3,
          "solution": true
        },
        "id": "FYAICWagw4KL"
      },
      "outputs": [],
      "source": [
        "# residue20 = type here\n",
        "### BEGIN SOLUTION\n",
        "residue20 =pose.residue(20)\n",
        "### END SOLUTION\n",
        "print(residue20.name())\n",
        "print(residue20)\n"
      ]
    },
    {
      "cell_type": "markdown",
      "metadata": {
        "id": "q77zhnv9w4KM"
      },
      "source": [
        "**Exercise: Residue objects**\n",
        "\n",
        "Use the `pose`'s `.residue()` object to get the 24th residue of the protein pose. What is the 24th residue in the PDB file (look in the PDB file)? Are they the same residue?"
      ]
    },
    {
      "cell_type": "code",
      "execution_count": null,
      "metadata": {
        "code_folding": [],
        "nbgrader": {
          "grade": true,
          "grade_id": "cell-0b423c45607a85e0",
          "locked": false,
          "points": 0,
          "schema_version": 3,
          "solution": true
        },
        "id": "wNfd5Lsjw4KM"
      },
      "outputs": [],
      "source": [
        "# store the 24th residue in the pose into a variable (see residue20 example above)\n",
        "### BEGIN SOLUTION\n",
        "\n",
        "### END SOLUTION\n"
      ]
    },
    {
      "cell_type": "code",
      "execution_count": null,
      "metadata": {
        "code_folding": [],
        "id": "8iWpJvPCw4KM"
      },
      "outputs": [],
      "source": [
        "# what other methods are attached to that Residue object? (type \"residue24.\" and hit Tab to see a list of commands)"
      ]
    },
    {
      "cell_type": "markdown",
      "metadata": {
        "id": "_yv_KZmVw4KM"
      },
      "source": [
        "We can immediately see that the numbering PyRosetta internally uses for pose residues is different from the PDB file. The information corresponding to the PDB file can be accessed through the `pose.pdb_info()` object."
      ]
    },
    {
      "cell_type": "code",
      "execution_count": null,
      "metadata": {
        "id": "ozp7BT2qw4KN"
      },
      "outputs": [],
      "source": [
        "print(pose.pdb_info().chain(24))\n",
        "print(pose.pdb_info().number(24))\n",
        "print(pose.residue(24).name())"
      ]
    },
    {
      "cell_type": "code",
      "source": [
        "print(pose.residue(pose.pdb_info().pose2pdb(24)).name())"
      ],
      "metadata": {
        "id": "FTLYFSEIN5iI"
      },
      "execution_count": null,
      "outputs": []
    },
    {
      "cell_type": "markdown",
      "metadata": {
        "id": "rjrKA7yvw4KN"
      },
      "source": [
        "By using the `pdb2pose` method in `pdb_info()`, we can turn PDB numbering (which requires a chain ID and a residue number) into Pose numbering"
      ]
    },
    {
      "cell_type": "code",
      "source": [
        "print(\n",
        "    pose.residue(\n",
        "    int(pose.pdb_info().pose2pdb(24).split()[0])\n",
        "    ).name()\n",
        "    )\n",
        "# pose2pdb returns a string \"residue_number chain_id\", so we need to split the string and convert the residue number to an integer"
      ],
      "metadata": {
        "id": "JnaoJJN3OCXe"
      },
      "execution_count": null,
      "outputs": []
    },
    {
      "cell_type": "code",
      "execution_count": null,
      "metadata": {
        "code_folding": [],
        "scrolled": false,
        "id": "2EH08etww4KN"
      },
      "outputs": [],
      "source": [
        "# PDB numbering to Pose numbering\n",
        "print(pose.pdb_info().pdb2pose('A', 24))"
      ]
    },
    {
      "cell_type": "markdown",
      "metadata": {
        "id": "MbqfRmXsw4KN"
      },
      "source": [
        "Use the `pose2pdb` method in `pdb_info()` to see what is the corresponding PDB chain and residue ID for pose residue number 24"
      ]
    },
    {
      "cell_type": "code",
      "execution_count": null,
      "metadata": {
        "code_folding": [],
        "id": "ZgWdqs0kw4KN"
      },
      "outputs": [],
      "source": [
        "# Pose numbering to PDB numbering"
      ]
    },
    {
      "cell_type": "code",
      "execution_count": null,
      "metadata": {
        "nbgrader": {
          "grade": true,
          "grade_id": "cell-eb3b845928c9313f",
          "locked": false,
          "points": 0,
          "schema_version": 3,
          "solution": true
        },
        "id": "Tqv43ODaw4KO"
      },
      "outputs": [],
      "source": [
        "### BEGIN SOLUTION\n",
        "\n",
        "### END SOLUTION"
      ]
    },
    {
      "cell_type": "markdown",
      "metadata": {
        "id": "UQNWtVIlw4KO"
      },
      "source": [
        "Now we can see how to examine the identity of a residue by PDB chain and residue number.\n",
        "\n",
        "Once we get a residue, there are various methods in the `Residue` class that might be for running analysis. We can get instances of the `Residue` class from `Pose`. For instance, we can do the following:"
      ]
    },
    {
      "cell_type": "code",
      "execution_count": null,
      "metadata": {
        "id": "zDteCzRpw4KO"
      },
      "outputs": [],
      "source": [
        "res_24 = pose.residue(24)\n",
        "print(res_24.name())\n",
        "print(res_24.is_charged())"
      ]
    },
    {
      "cell_type": "markdown",
      "metadata": {
        "id": "DGqKHB65w4KO"
      },
      "source": [
        "## Getting spatial features from a Pose. Protein geometry"
      ]
    },
    {
      "cell_type": "code",
      "execution_count": null,
      "metadata": {
        "scrolled": true,
        "id": "RJvtbNyvw4KO"
      },
      "outputs": [],
      "source": [
        "from IPython.display import Image\n",
        "Image('/content/google_drive/MyDrive/BIP_24-25/clase_2/dihedral-final.png',width='800')"
      ]
    },
    {
      "cell_type": "markdown",
      "metadata": {
        "id": "Ipuk9tGzw4KP"
      },
      "source": [
        "`Pose` objects make it easy to access angles, distances, and torsions for analysis. Lets take a look at how to get backbone torsions first."
      ]
    },
    {
      "cell_type": "code",
      "execution_count": null,
      "metadata": {
        "id": "G4xdphmBw4KP"
      },
      "outputs": [],
      "source": [
        "#resid = \"get the pose residue number for chain A:res 28 using the pdb2pose function\"\n",
        "### BEGIN SOLUTION\n",
        "\n",
        "### END SOLUTION"
      ]
    },
    {
      "cell_type": "markdown",
      "metadata": {
        "id": "z011mL3Fw4KP"
      },
      "source": [
        "Say we want to find the length of the $N$-$C_\\alpha$ and $C_\\alpha$-$C$ bonds for residue A:28 from the PDB file. We can use a couple approaches. The first involves using the bond length in the `Conformation` class, which stores some info on protein geometry. Take a look at some of the methods in the `Conformation` class using tab completion."
      ]
    },
    {
      "cell_type": "code",
      "execution_count": null,
      "metadata": {
        "id": "G-3lsPhqw4KP"
      },
      "outputs": [],
      "source": [
        "conformation = pose.conformation()"
      ]
    },
    {
      "cell_type": "markdown",
      "metadata": {
        "id": "MzAK5tJLw4KP"
      },
      "source": [
        "Look at the documentation for the method `conformation.bond_length` below."
      ]
    },
    {
      "cell_type": "code",
      "execution_count": null,
      "metadata": {
        "id": "wZRl7Kdsw4KQ"
      },
      "outputs": [],
      "source": [
        "### BEGIN SOLUTION\n",
        "?conformation.bond_length\n",
        "\n",
        "### END SOLUTION"
      ]
    },
    {
      "cell_type": "markdown",
      "metadata": {
        "id": "XVV6HypTw4KQ"
      },
      "source": [
        "To use the bond_length method in the `Conformation` class, it looks like we'll need to make `AtomID` objects. We can do this using an atom index and residue ID as follows:"
      ]
    },
    {
      "cell_type": "code",
      "execution_count": null,
      "metadata": {
        "id": "roB8WOZOw4KQ"
      },
      "outputs": [],
      "source": [
        "# Double Check: does resid contain the Pose numbering or PDB numbering?\n",
        "res_28 = pose.residue(resid)\n",
        "N28 = AtomID(res_28.atom_index(\"N\"), resid)\n",
        "CA28 = AtomID(res_28.atom_index(\"CA\"), resid)\n",
        "C28 = AtomID(res_28.atom_index(\"C\"), resid)\n",
        "\n",
        "# try printing out an AtomID object!"
      ]
    },
    {
      "cell_type": "markdown",
      "metadata": {
        "id": "ENJGBB8sw4KQ"
      },
      "source": [
        "As usual, if you did not know how to construct an `AtomID`, you could check the documentation using `?AtomID`.\n",
        "\n",
        "Now we can compute the bond lengths:"
      ]
    },
    {
      "cell_type": "code",
      "execution_count": null,
      "metadata": {
        "id": "ML_Jjc5xw4KQ"
      },
      "outputs": [],
      "source": [
        "print(pose.conformation().bond_length(N28, CA28))\n",
        "print(pose.conformation().bond_length(CA28, C28))"
      ]
    },
    {
      "cell_type": "markdown",
      "metadata": {
        "id": "jsSKErw9w4KR"
      },
      "source": [
        "Alternatively, we can compute bond lengths ourselves starting from the xyz coordinates of the atoms.\n",
        "\n",
        "The method `xyz` of `Residue` returns a `Vector` class. The `Vector` class has various useful builtin methods including computing dot products, cross products, and norms. Through operator overloading in the `Vector` class, you can just subtract and add vector objects and they will manipulate the corresponding vectors appropriately."
      ]
    },
    {
      "cell_type": "code",
      "execution_count": null,
      "metadata": {
        "id": "9WXf6Evsw4KR"
      },
      "outputs": [],
      "source": [
        "N_xyz = res_28.xyz(\"N\")\n",
        "CA_xyz = res_28.xyz(\"CA\")\n",
        "C_xyz = res_28.xyz(\"C\")\n",
        "N_CA_vector = CA_xyz - N_xyz\n",
        "CA_C_vector = CA_xyz - C_xyz\n",
        "print(N_CA_vector.norm())\n",
        "print(CA_C_vector.norm())"
      ]
    },
    {
      "cell_type": "markdown",
      "metadata": {
        "id": "uN1oIrv_w4KS"
      },
      "source": [
        "Thankfully, the two approaches for computing distances check out!\n",
        "\n",
        "**Note**: Not all bond lengths, angles, and torsions will be accessible using the `Conformation` object. That is because the `Conformation` object stores only the subset it needs to generate xyz locations for the atoms in the pose. The most stable way to get this information is to compute it using the xyz Cartesian coordinate vectors as a starting point."
      ]
    },
    {
      "cell_type": "markdown",
      "metadata": {
        "id": "I6KUb7pKw4KS"
      },
      "source": [
        "We can check Rosetta's ideal $N$-$C_\\alpha$ and $C_\\alpha$-$C$ bond lengths. These ideal values would for instance be used if we generated a new pose from an amino acid sequence"
      ]
    },
    {
      "cell_type": "code",
      "execution_count": null,
      "metadata": {
        "id": "HM1jmI5Sw4KS"
      },
      "outputs": [],
      "source": [
        "one_res_seq = \"V\" #Select valine to analise its geometry. This is not the valine in a particular protein.\n",
        "pose_one_res = pose_from_sequence(one_res_seq)\n",
        "print(pose_one_res.sequence())"
      ]
    },
    {
      "cell_type": "code",
      "execution_count": null,
      "metadata": {
        "id": "bbSCoc8Cw4KS"
      },
      "outputs": [],
      "source": [
        "N_xyz = pose_one_res.residue(1).xyz(\"N\")\n",
        "CA_xyz = pose_one_res.residue(1).xyz(\"CA\")\n",
        "C_xyz = pose_one_res.residue(1).xyz(\"C\")\n",
        "print((CA_xyz - N_xyz).norm())\n",
        "print((CA_xyz - C_xyz).norm())"
      ]
    },
    {
      "cell_type": "markdown",
      "metadata": {
        "id": "Xgq3D6A9w4KT"
      },
      "source": [
        "Now lets figure out how to get angles in the protein. If the `Conformation` class has the angle we're looking for, we can use the AtomID objects we've already created:"
      ]
    },
    {
      "cell_type": "code",
      "execution_count": null,
      "metadata": {
        "id": "bdQ4giBqw4KT"
      },
      "outputs": [],
      "source": [
        "angle = pose.conformation().bond_angle(N28, CA28, C28)\n",
        "print(angle) #This is the angle in radians"
      ]
    },
    {
      "cell_type": "markdown",
      "metadata": {
        "id": "FWbqmsHWw4KT"
      },
      "source": [
        "**Exercise**\n",
        "Write some code to convert the angle above to degrees"
      ]
    },
    {
      "cell_type": "code",
      "execution_count": null,
      "metadata": {
        "id": "LY1l66ssw4KU"
      },
      "outputs": [],
      "source": [
        "import math\n",
        "angle*180/math.pi"
      ]
    },
    {
      "cell_type": "code",
      "execution_count": null,
      "metadata": {
        "id": "ydFJ9tUYw4KU"
      },
      "outputs": [],
      "source": [
        "import math\n",
        "# angle_degrees = math.degrees(angle)\n",
        "print(\"Angle in degrees:\", math.degrees(angle))"
      ]
    },
    {
      "cell_type": "markdown",
      "metadata": {
        "id": "hOBAVNUJw4KU"
      },
      "source": [
        "Based on the value of the N-$C_\\alpha$-C angle. What is the geometry of the $C_\\alpha$?"
      ]
    },
    {
      "cell_type": "markdown",
      "metadata": {
        "id": "_QFtazkYw4KU"
      },
      "source": [
        "### Manipulating protein geometry"
      ]
    },
    {
      "cell_type": "markdown",
      "metadata": {
        "id": "CrRDqMYSw4KU"
      },
      "source": [
        "We can also alter the geometry of the protein, with particular interest in manipulating the protein backbone and $\\chi$ dihedrals.\n",
        "\n",
        "We will Perform each of the following manipulations on an alanine tripeptide, and see what happens with the coordinates of the CB atom of Pose residue 2 afterward.\n",
        "- Set the $\\phi$ of residue 2 to -60\n",
        "- Set the $\\psi$ of residue 2 to -43"
      ]
    },
    {
      "cell_type": "code",
      "execution_count": null,
      "metadata": {
        "id": "fgEzsh_Kw4KU"
      },
      "outputs": [],
      "source": [
        "# three alanines\n",
        "tripeptide = pose_from_sequence(\"AAA\")\n",
        "\n",
        "orig_phi = tripeptide.phi(2)\n",
        "orig_psi = tripeptide.psi(2)\n",
        "print(\"original phi:\", orig_phi)\n",
        "print(\"original psi:\", orig_psi)\n",
        "\n",
        "# print the xyz coordinates of the CB atom of residue 2 here BEFORE setting\n",
        "### BEGIN SOLUTION\n",
        "\n",
        "### END SOLUTION"
      ]
    },
    {
      "cell_type": "code",
      "execution_count": null,
      "metadata": {
        "id": "ubtn9OCMw4KU"
      },
      "outputs": [],
      "source": [
        "# set the phi and psi here\n",
        "### BEGIN SOLUTION\n",
        "tripeptide.set_phi(2, -60)\n",
        "tripeptide.set_psi(2, -43)\n",
        "\n",
        "print(\"new phi:\", tripeptide.phi(2))\n",
        "print(\"new psi:\", tripeptide.psi(2))\n",
        "### END SOLUTION"
      ]
    },
    {
      "cell_type": "code",
      "execution_count": null,
      "metadata": {
        "id": "gAI1B656w4KV"
      },
      "outputs": [],
      "source": [
        "# print the xyz coordinates of the CB atom of residue 2 here AFTER setting\n",
        "### BEGIN SOLUTION\n",
        "print(\"xyz coordinates:\", tripeptide.residue(2).xyz(\"CB\"))\n",
        "### END SOLUTION\n",
        "# did changing the phi and psi angle change the xyz coordinates of the CB atom of alanine 2?"
      ]
    },
    {
      "cell_type": "markdown",
      "metadata": {
        "id": "9AfbrqXXw4KV"
      },
      "source": [
        "### Pose visualization with PyMOL"
      ]
    },
    {
      "cell_type": "markdown",
      "metadata": {
        "id": "vB8t5qlBw4KV"
      },
      "source": [
        "We can inspect poses generated with PyRosetta using PyMOL. Start PyMOL and either use the PyMOL command line to run the PyMOL-RosettaServer.py file or drag and drop the PyMOL-RosettaServer.py file onto the PyMOL window to start the PyMOL-PyRosetta link.\n",
        "\n",
        "The PyMOLMover class will let us send information from PyRosetta to PyMOL for quick visualization. We are creating an instance of PyMOLMover called pmm."
      ]
    },
    {
      "cell_type": "code",
      "execution_count": null,
      "metadata": {
        "id": "cJliNezPw4KV"
      },
      "outputs": [],
      "source": [
        "from pyrosetta import PyMOLMover\n",
        "pmm = PyMOLMover('127.0.0.1', 65000)\n",
        "pmm.apply(pose_clean)"
      ]
    },
    {
      "cell_type": "markdown",
      "source": [
        "### Pose visualization with Py3Dmol"
      ],
      "metadata": {
        "id": "kTgmxvlP4TrQ"
      }
    },
    {
      "cell_type": "code",
      "source": [
        "!pip install Py3dmol"
      ],
      "metadata": {
        "id": "XHOjmZN94pt3"
      },
      "execution_count": null,
      "outputs": []
    },
    {
      "cell_type": "code",
      "source": [
        "import py3Dmol\n",
        "#view = py3dmol.view(width=800, height=600)\n",
        "v = py3Dmol.view()\n",
        "v.addModel(open('PATH_TO_FILE/5tj3.clean.pdb').read())\n",
        "v.setStyle({'cartoon': {'color': 'spectrum'}})  # Set the style to cartoon\n",
        "v.zoomTo()  # Zoom to fit the structure\n",
        "v.show()  #\n"
      ],
      "metadata": {
        "id": "B64qRnAV4dYx"
      },
      "execution_count": null,
      "outputs": []
    },
    {
      "cell_type": "markdown",
      "metadata": {
        "id": "7ToKXTXBw4KV"
      },
      "source": [
        "## Rosetta Energy Score Functions\n"
      ]
    },
    {
      "cell_type": "markdown",
      "metadata": {
        "id": "V7QdsXa4w4KV"
      },
      "source": [
        "A basic function of Rosetta is calculating the energy or score of a biomolecule. This is important for inspecting the energies of a biomolecule at the whole protein, per-residue, and per-atom level.  \n",
        "\n",
        "Rosetta has a standard energy function for all-atom calculations as well as several scoring functions for low-resolution protein representations. See https://www.ncbi.nlm.nih.gov/pubmed/28430426 for a review on the all-atom score functions.\n",
        "\n",
        "You can also tailor an energy function by including scoring terms of your choice with custom weights."
      ]
    },
    {
      "cell_type": "markdown",
      "metadata": {
        "id": "KaYTetniw4KV"
      },
      "source": [
        "To score a protein, you will begin by defining a score function using the `get_score_function(is_fullatom: bool)` method in the `pyrosetta.teaching` namespace. Specifying `True` will return the default `ref2015` all-atom energy function, while `False` will specify the default centroid score function.\n",
        "\n",
        "Create a PyRosetta score function using:\n",
        "```\n",
        "sfxn = get_score_function(True)\n",
        "```"
      ]
    },
    {
      "cell_type": "code",
      "execution_count": null,
      "metadata": {
        "id": "77W4jSWkw4KV"
      },
      "outputs": [],
      "source": [
        "from pyrosetta.teaching import *\n",
        "\n",
        "sfxn = get_score_function(True)"
      ]
    },
    {
      "cell_type": "markdown",
      "metadata": {
        "id": "wlPeRLuFw4KV"
      },
      "source": [
        "You can see the terms, weights, and energy method options by printing the score function:\n",
        "\n",
        "```\n",
        "print(sfxn)\n",
        "```"
      ]
    },
    {
      "cell_type": "code",
      "execution_count": null,
      "metadata": {
        "id": "haSpM4Gtw4KV"
      },
      "outputs": [],
      "source": [
        "print(sfxn)"
      ]
    },
    {
      "cell_type": "markdown",
      "metadata": {
        "id": "ewUJcmHtw4KV"
      },
      "source": [
        "### Custom energy functions\n",
        "\n",
        "You can also create a custom energy function that includes select terms. Typically, creating a whole new score function is unneccesary because the current one works well in most cases. However, tweaking the current energy function by reassigning weights and adding certain energy terms can be useful.\n",
        "\n",
        "Here, we will make an example energy function with only the van der Waals attractive and repulsive terms, both with weights of 1. We need to use the `set_weight()`. Make a new `ScoreFunction` and set the weights accordingly. This is how we set the full-atom attractive (`fa_atr`) and the full-atom repulsive (`fa_rep`) terms.\n",
        "\n",
        "```\n",
        "sfxn2 = ScoreFunction()\n",
        "sfxn2.set_weight(fa_atr, 1.0)\n",
        "sfxn2.set_weight(fa_rep, 1.0)\n",
        "```"
      ]
    },
    {
      "cell_type": "code",
      "execution_count": null,
      "metadata": {
        "id": "s2s0EmJFw4KV"
      },
      "outputs": [],
      "source": [
        "sfxn2 = ScoreFunction()\n",
        "sfxn2.set_weight(fa_atr, 1.0)\n",
        "sfxn2.set_weight(fa_rep, 1.0)"
      ]
    },
    {
      "cell_type": "markdown",
      "metadata": {
        "id": "U4kjEtR_w4KW"
      },
      "source": [
        "Lets compare the score of `pose_clean` using the full-atom `ScoreFunction` versus the `ScoreFunction` we made above using only the attractive and repulsive terms.\n",
        "\n",
        "First, print the total energy of `pose_clean` using `print(sfxn(pose_clean))`\n",
        "Then, print the attractive and repulsive energy only of `ras` using `print(sfxn2(pose_clean))`"
      ]
    },
    {
      "cell_type": "code",
      "execution_count": null,
      "metadata": {
        "id": "XEUCC5UYw4KW"
      },
      "outputs": [],
      "source": [
        "print(sfxn(pose_clean))"
      ]
    },
    {
      "cell_type": "code",
      "execution_count": null,
      "metadata": {
        "id": "OkfAUJz3w4KW"
      },
      "outputs": [],
      "source": [
        "print(sfxn2(pose_clean))"
      ]
    },
    {
      "cell_type": "markdown",
      "metadata": {
        "id": "dRt4D9YVw4KW"
      },
      "source": [
        "### Energy Breakdown\n",
        "Using the full-atom `ScoreFunction` `sfxn`, break the energy of `pose_clean` down into its individual pieces with the `sfxn.show(pose_clean)` method. Which are the three most dominant contributions, and what are their values? Is this what you would have expected? Why? Note which terms are positive and negative"
      ]
    },
    {
      "cell_type": "code",
      "execution_count": null,
      "metadata": {
        "id": "IXYeU8h3w4KW"
      },
      "outputs": [],
      "source": [
        "sfxn.show(pose_clean)"
      ]
    },
    {
      "cell_type": "code",
      "execution_count": null,
      "metadata": {
        "id": "UwPLqW89w4KW"
      },
      "outputs": [],
      "source": [
        "# Your response here: what are the three most dominant contributions?"
      ]
    },
    {
      "cell_type": "markdown",
      "metadata": {
        "id": "D4yY9G9sw4KW"
      },
      "source": [
        "Unweighted, individual component energies of each residue in a structure are stored in the `Pose` object and can be accessed by the `energies()` method. For example, to break down the energy into each residue's contribution, we use:\n",
        "```\n",
        "print(pose_clean.energies().show(<n>))\n",
        "```\n",
        "Where `<n>` is the residue number.\n",
        "\n",
        "What are the total van der Waals, solvation, and hydrogen-bonding contributions of residue 24?\n",
        "\n",
        "Note: The _backbone_ hydrogen-bonding terms for each residue are not available from the `Energies` object. You can get them by using EnergyMethodOptions. See http://www.pyrosetta.org/documentation#TOC-Hydrogen-Bonds-and-Hydrogen-Bond-Scoring."
      ]
    },
    {
      "cell_type": "code",
      "execution_count": null,
      "metadata": {
        "id": "i23gwpG_w4KW"
      },
      "outputs": [],
      "source": [
        "print(pose_clean.energies().show(24))"
      ]
    },
    {
      "cell_type": "code",
      "execution_count": null,
      "metadata": {
        "id": "Fi2ZjGzgw4KW"
      },
      "outputs": [],
      "source": [
        "# vdW = fa_atr + fa_rep =  -6.52 + 0.76; solvation = fa_sol = 6.43; hbond = hbond_sr_bb + hbond_lr_bb + hbond_bb_sc + hbond_sc = 0.00 + 0.00 + 0.00 + -0.66"
      ]
    },
    {
      "cell_type": "markdown",
      "metadata": {
        "id": "TdCHIaabw4KW"
      },
      "source": [
        "The van der Waals, solvation, and electrostatic terms are atom-atom pairwise energies calculated from a pre-tabulated lookup table, dependent upon the distance between the two atoms and their types. You can access this lookup table, called the `etable` directly to check these energy calculations on an atom-by-atom basis. Use the `etable_atom_pair_energies` function which returns a triplet of energies for attractive, repulsive and solvation scores.\n",
        "\n",
        "(Note that the `etable_atom_pair_energies()` function requires `Atom` objects, not the `AtomID` objects we saw earlier. For more info, look at the [documentation](https://graylab.jhu.edu/PyRosetta.documentation/pyrosetta.toolbox.atom_pair_energy.html?highlight=etable_atom_pair_energies#pyrosetta.toolbox.atom_pair_energy.etable_atom_pair_energies).)\n",
        "\n",
        "**Practice:** What are the attractive, repulsive, solvation, and electrostatic components between the nitrogen of residue 24 and the oxygen of residue 20?\n"
      ]
    },
    {
      "cell_type": "code",
      "execution_count": null,
      "metadata": {
        "id": "GoQ8qs3Gw4KX"
      },
      "outputs": [],
      "source": [
        "res24 = pose_clean.residue(24)\n",
        "res20 = pose_clean.residue(20)\n",
        "res24_atomN = res24.atom_index(\"N\")\n",
        "res20_atomO = res20.atom_index(\"O\")\n",
        "pyrosetta.etable_atom_pair_energies(res24, res24_atomN, res20, res20_atomO, sfxn)"
      ]
    },
    {
      "cell_type": "code",
      "execution_count": null,
      "metadata": {
        "id": "GJvtiB1Rw4KX"
      },
      "outputs": [],
      "source": [
        "help(pyrosetta.etable_atom_pair_energies)"
      ]
    }
  ],
  "metadata": {
    "kernelspec": {
      "display_name": "Python 3 (ipykernel)",
      "language": "python",
      "name": "python3"
    },
    "language_info": {
      "codemirror_mode": {
        "name": "ipython",
        "version": 3
      },
      "file_extension": ".py",
      "mimetype": "text/x-python",
      "name": "python",
      "nbconvert_exporter": "python",
      "pygments_lexer": "ipython3",
      "version": "3.9.6"
    },
    "toc": {
      "base_numbering": 1,
      "nav_menu": {},
      "number_sections": true,
      "sideBar": true,
      "skip_h1_title": false,
      "title_cell": "Table of Contents",
      "title_sidebar": "Contents",
      "toc_cell": false,
      "toc_position": {},
      "toc_section_display": true,
      "toc_window_display": false
    },
    "colab": {
      "provenance": [],
      "include_colab_link": true
    }
  },
  "nbformat": 4,
  "nbformat_minor": 0
}