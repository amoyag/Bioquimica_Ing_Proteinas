{
  "cells": [
    {
      "cell_type": "markdown",
      "metadata": {
        "id": "view-in-github",
        "colab_type": "text"
      },
      "source": [
        "<a href=\"https://colab.research.google.com/github/amoyag/Bioquimica_Ing_Proteinas/blob/main/1-Intro_PyRosetta/clase1-pose.ipynb\" target=\"_parent\"><img src=\"https://colab.research.google.com/assets/colab-badge.svg\" alt=\"Open In Colab\"/></a>"
      ]
    },
    {
      "cell_type": "markdown",
      "id": "3f2bc69f",
      "metadata": {
        "id": "3f2bc69f"
      },
      "source": [
        "<!--NOTEBOOK_HEADER-->\n",
        "*This notebook contains material from [PyRosetta](https://RosettaCommons.github.io/PyRosetta.notebooks);\n",
        "content is available [on Github](https://github.com/RosettaCommons/PyRosetta.notebooks.git).*"
      ]
    },
    {
      "cell_type": "markdown",
      "id": "f49a900a",
      "metadata": {
        "id": "f49a900a"
      },
      "source": [
        "# Working with poses\n",
        "Keywords: pose_from_pdb(), sequence(), cleanATOM, annotated_sequence()"
      ]
    },
    {
      "cell_type": "markdown",
      "id": "73bb7ce6",
      "metadata": {
        "id": "73bb7ce6"
      },
      "source": [
        "We will get practice working with the `Pose` class in PyRosetta. We will load in a protein from a PDB files, use the `Pose` class to learn about the sequence of the protein.\n",
        "\n",
        "On the corresponding `Pose` lab found on the PyRosetta website, you will find various useful commands to interrogate poses; these may come in handy for the exercises."
      ]
    },
    {
      "cell_type": "code",
      "source": [
        "# Necesito instalar de nuevo PyRosetta\n",
        "\n",
        "!pip install pyrosettacolabsetup\n",
        "import pyrosettacolabsetup; pyrosettacolabsetup.install_pyrosetta()\n",
        "import pyrosetta; pyrosetta.init()"
      ],
      "metadata": {
        "id": "bGLnP3D2wvYm"
      },
      "id": "bGLnP3D2wvYm",
      "execution_count": null,
      "outputs": []
    },
    {
      "cell_type": "code",
      "execution_count": null,
      "id": "1ac07142",
      "metadata": {
        "colab": {
          "base_uri": "https://localhost:8080/"
        },
        "id": "1ac07142",
        "outputId": "93c167d0-df0d-4d91-b841-0c011d1e5ff7",
        "collapsed": true
      },
      "outputs": [
        {
          "output_type": "stream",
          "name": "stdout",
          "text": [
            "┌───────────────────────────────────────────────────────────────────────────────┐\n",
            "│                                  PyRosetta-4                                  │\n",
            "│               Created in JHU by Sergey Lyskov and PyRosetta Team              │\n",
            "│               (C) Copyright Rosetta Commons Member Institutions               │\n",
            "│                                                                               │\n",
            "│ NOTE: USE OF PyRosetta FOR COMMERCIAL PURPOSES REQUIRES PURCHASE OF A LICENSE │\n",
            "│          See LICENSE.PyRosetta.md or email license@uw.edu for details         │\n",
            "└───────────────────────────────────────────────────────────────────────────────┘\n",
            "PyRosetta-4 2025 [Rosetta PyRosetta4.MinSizeRel.python312.ubuntu 2025.37+release.df75a9c48e763e52a7aa3f5dfba077f4da88dbf5 2025-09-03T12:23:30] retrieved from: http://www.pyrosetta.org\n",
            "core.init: Checking for fconfig files in pwd and ./rosetta/flags\n",
            "core.init: Rosetta version: PyRosetta4.MinSizeRel.python312.ubuntu r408 2025.37+release.df75a9c48e df75a9c48e763e52a7aa3f5dfba077f4da88dbf5 http://www.pyrosetta.org 2025-09-03T12:23:30\n",
            "core.init: Rosetta extras: []\n",
            "core.init: command: PyRosetta -ex1 -ex2aro -database /usr/local/lib/python3.12/dist-packages/pyrosetta/database\n",
            "basic.random.init_random_generator: 'RNG device' seed mode, using '/dev/urandom', seed=-1566169307 seed_offset=0 real_seed=-1566169307\n",
            "basic.random.init_random_generator: RandomGenerator:init: Normal mode, seed=-1566169307 RG_type=mt19937\n"
          ]
        }
      ],
      "source": [
        "from pyrosetta import *\n",
        "init()\n",
        "import os\n",
        "notebook_path = os.path.abspath(\"clase1-pose.ipynb\")"
      ]
    },
    {
      "cell_type": "code",
      "execution_count": null,
      "id": "de20217a",
      "metadata": {
        "colab": {
          "base_uri": "https://localhost:8080/"
        },
        "id": "de20217a",
        "outputId": "9ddef6cf-ce07-48ab-bf8b-b8b0c8168232",
        "collapsed": true
      },
      "outputs": [
        {
          "output_type": "stream",
          "name": "stdout",
          "text": [
            "core.import_pose.import_pose: File '/content/google_drive/MyDrive/BIP_25-26/1-Intro_PyRosetta/5tj3.pdb' automatically determined to be of type PDB from contents.\n",
            "core.conformation.Conformation: [ WARNING ] missing heavyatom:  CG  on residue LYS 233\n",
            "core.conformation.Conformation: [ WARNING ] missing heavyatom:  CD  on residue LYS 233\n",
            "core.conformation.Conformation: [ WARNING ] missing heavyatom:  CE  on residue LYS 233\n",
            "core.conformation.Conformation: [ WARNING ] missing heavyatom:  NZ  on residue LYS 233\n",
            "core.conformation.Conformation: [ WARNING ] missing heavyatom:  CG  on residue ASP 350\n",
            "core.conformation.Conformation: [ WARNING ] missing heavyatom:  OD1 on residue ASP 350\n",
            "core.conformation.Conformation: [ WARNING ] missing heavyatom:  OD2 on residue ASP 350\n",
            "core.conformation.Conformation: [ WARNING ] missing heavyatom:  CG  on residue LYS 353\n",
            "core.conformation.Conformation: [ WARNING ] missing heavyatom:  CD  on residue LYS 353\n",
            "core.conformation.Conformation: [ WARNING ] missing heavyatom:  CE  on residue LYS 353\n",
            "core.conformation.Conformation: [ WARNING ] missing heavyatom:  NZ  on residue LYS 353\n",
            "core.conformation.Conformation: [ WARNING ] missing heavyatom:  CG  on residue GLU 354\n",
            "core.conformation.Conformation: [ WARNING ] missing heavyatom:  CD  on residue GLU 354\n",
            "core.conformation.Conformation: [ WARNING ] missing heavyatom:  OE1 on residue GLU 354\n",
            "core.conformation.Conformation: [ WARNING ] missing heavyatom:  OE2 on residue GLU 354\n",
            "core.conformation.Conformation: [ WARNING ] missing heavyatom:  CG  on residue LYS 382\n",
            "core.conformation.Conformation: [ WARNING ] missing heavyatom:  CD  on residue LYS 382\n",
            "core.conformation.Conformation: [ WARNING ] missing heavyatom:  CE  on residue LYS 382\n",
            "core.conformation.Conformation: [ WARNING ] missing heavyatom:  NZ  on residue LYS 382\n",
            "core.conformation.Conformation: [ WARNING ] missing heavyatom:  CG  on residue TYR 454\n",
            "core.conformation.Conformation: [ WARNING ] missing heavyatom:  CD1 on residue TYR 454\n",
            "core.conformation.Conformation: [ WARNING ] missing heavyatom:  CD2 on residue TYR 454\n",
            "core.conformation.Conformation: [ WARNING ] missing heavyatom:  CE1 on residue TYR 454\n",
            "core.conformation.Conformation: [ WARNING ] missing heavyatom:  CE2 on residue TYR 454\n",
            "core.conformation.Conformation: [ WARNING ] missing heavyatom:  CZ  on residue TYR 454\n",
            "core.conformation.Conformation: [ WARNING ] missing heavyatom:  OH  on residue TYR 454\n",
            "core.conformation.Conformation: [ WARNING ] missing heavyatom:  OXT on residue GLY:CtermProteinFull 520\n",
            "core.pack.pack_missing_sidechains: packing residue number 233 because of missing atom number 6 atom name  CG\n",
            "core.pack.pack_missing_sidechains: packing residue number 350 because of missing atom number 6 atom name  CG\n",
            "core.pack.pack_missing_sidechains: packing residue number 353 because of missing atom number 6 atom name  CG\n",
            "core.pack.pack_missing_sidechains: packing residue number 354 because of missing atom number 6 atom name  CG\n",
            "core.pack.pack_missing_sidechains: packing residue number 382 because of missing atom number 6 atom name  CG\n",
            "core.pack.pack_missing_sidechains: packing residue number 454 because of missing atom number 6 atom name  CG\n",
            "core.pack.task: Packer task: initialize from command line()\n",
            "core.scoring.ScoreFunctionFactory: SCOREFUNCTION: ref2015\n",
            "core.pack.pack_rotamers: built 90 rotamers at 6 positions.\n",
            "core.pack.interaction_graph.interaction_graph_factory: Instantiating DensePDInteractionGraph\n"
          ]
        }
      ],
      "source": [
        "pdb_file = os.path.join(os.path.dirname(notebook_path), \"/content/google_drive/MyDrive/BIP_25-26/1-Intro_PyRosetta/5tj3.pdb\")\n",
        "pose = pose_from_pdb(pdb_file)"
      ]
    },
    {
      "cell_type": "markdown",
      "id": "0cc02444",
      "metadata": {
        "id": "0cc02444"
      },
      "source": [
        "## What is a pose?"
      ]
    },
    {
      "cell_type": "markdown",
      "id": "af28a3d9",
      "metadata": {
        "id": "af28a3d9"
      },
      "source": [
        "The Pose class includes various types of information that describe a structure. Some of the core components include the Energies, PDBInfo, and Conformation. See the Rosetta3 paper to learn more: https://www.sciencedirect.com/science/article/pii/B9780123812704000196"
      ]
    },
    {
      "cell_type": "markdown",
      "id": "458f45ab",
      "metadata": {
        "id": "458f45ab"
      },
      "source": [
        "**Exercise**\n",
        "\n",
        "Do a little research to find out a definition of `Pose`. Write down your definition below."
      ]
    },
    {
      "cell_type": "markdown",
      "id": "e6d06528",
      "metadata": {
        "id": "e6d06528"
      },
      "source": []
    },
    {
      "cell_type": "markdown",
      "id": "08119f59",
      "metadata": {
        "id": "08119f59"
      },
      "source": [
        "As an example, let's use our pose to look at the sequence of 5TJ3:\n",
        "`pose.sequence()`"
      ]
    },
    {
      "cell_type": "code",
      "execution_count": null,
      "id": "1200eb96",
      "metadata": {
        "id": "1200eb96"
      },
      "outputs": [],
      "source": [
        "pose.sequence()"
      ]
    },
    {
      "cell_type": "markdown",
      "id": "c13f8494",
      "metadata": {
        "id": "c13f8494"
      },
      "source": [
        "Sometimes PDB files do not conform to standards and need to be cleaned to be loaded successfully with PyRosetta. One way to make sure the file is loaded successfully is to only include the ATOM lines from the PDB file. Alternatively, you could use the cleanATOM function in pyrosetta.toolbox to achieve the same:"
      ]
    },
    {
      "cell_type": "code",
      "execution_count": null,
      "id": "28cfc6b0",
      "metadata": {
        "id": "28cfc6b0"
      },
      "outputs": [],
      "source": [
        "from pyrosetta.toolbox import cleanATOM\n",
        "cleanATOM(pdb_file)"
      ]
    },
    {
      "cell_type": "markdown",
      "id": "b09dc7b8",
      "metadata": {
        "id": "b09dc7b8"
      },
      "source": [
        "This method will create a cleaned `5tj3.clean.pdb` file for you. Lets load this into PyRosetta as well:"
      ]
    },
    {
      "cell_type": "code",
      "execution_count": null,
      "id": "0f968768",
      "metadata": {
        "collapsed": true,
        "id": "0f968768"
      },
      "outputs": [],
      "source": [
        "pdb_file_clean = os.path.join(os.path.dirname(notebook_path), \"/content/google_drive/MyDrive/BIP_25-26/1-Intro_PyRosetta/5tj3.clean.pdb\")\n",
        "pose_clean = pose_from_pdb(pdb_file_clean)"
      ]
    },
    {
      "cell_type": "markdown",
      "id": "f872ab1c",
      "metadata": {
        "id": "f872ab1c"
      },
      "source": [
        "In our case, we could load in the PDB file for 5tj3 without cleaning it. In fact, we've lost some residues when cleaning the PDB file with cleanATOM. What is the difference in the `sequence` of the `pose_clean` now, compared to before?"
      ]
    },
    {
      "cell_type": "code",
      "execution_count": null,
      "id": "a8d59436",
      "metadata": {
        "id": "a8d59436"
      },
      "outputs": [],
      "source": [
        "# print out the sequence of pose_clean\n",
        "pose_clean.sequence()"
      ]
    },
    {
      "cell_type": "code",
      "execution_count": null,
      "id": "fdb18987",
      "metadata": {
        "id": "fdb18987"
      },
      "outputs": [],
      "source": []
    },
    {
      "cell_type": "markdown",
      "id": "d522f7c9",
      "metadata": {
        "id": "d522f7c9"
      },
      "source": [
        "With the function `annotated_sequence` below, we can start to see in more detail what the differences are. Note that non-canonical amino acids and hetatms are spelled out more explicitly now."
      ]
    },
    {
      "cell_type": "markdown",
      "id": "f152fc85",
      "metadata": {
        "id": "f152fc85"
      },
      "source": [
        "**Exercise**\n",
        "\n",
        "Visually inspect the sequences to find the difference(s) between the `pose_clean.annotated_sequence()` and `pose.annotated_sequence()`. Were residues removed? Which ones?"
      ]
    },
    {
      "cell_type": "code",
      "execution_count": null,
      "id": "a024fe0f",
      "metadata": {
        "id": "a024fe0f",
        "colab": {
          "base_uri": "https://localhost:8080/",
          "height": 142
        },
        "outputId": "4d780c24-2fd4-439d-d5e3-f0a7ec9055d6"
      },
      "outputs": [
        {
          "output_type": "execute_result",
          "data": {
            "text/plain": [
              "'N[ASN:NtermProteinFull]AVPRPKLVVGLVVDQMRWDYLYRYYSKYGEGGFKRMLNTGYSLNNVHIDYVPTVT[THR:phosphorylated]AIGHTSIFTGSVPSIHGIAGNDWYDKELGKSVYCTSDETVQPVGTTSNSVGQHSPRNLWSTTVTDQLGLATNFTSKVVGVSLKDRASILPAGHNPTGAFWFDDTTGKFITSTYYTKELPKWVNDFNNKNVPAQLVANGWNTLLPINQYTESSEDNVEWEGLLGSKKTPTFPYTDLAKDYEAKKGLIRTTPFGNTLTLQMADAAIDGNQMGVDDITDFLTVNLASTDYVGHNFGPNSIEVEDTYLRLDRDLADFFNNLDKKVGKGNYLVFLSADHGAAHSVGFMQAHKMPTGFFDMKKEMNAKLKQKFGADNIIAAAMNYQVYFDRKVLADSKLELDDVRDYVMTELKKEPSVLYVLSTDEIWESSIPEPIKSRVINGYNWKRSGDIQIISKDGYLSAYSKKGTTHSVWNSYDSHIPLLFMGWGIKQGESNQPYHMTDIAPTVSSLLKIQFPSGAVGKPITEVIG[GLY:CtermProteinFull]Z[ZN]Z[ZN]Z[ZN]Z[ZN]'"
            ],
            "application/vnd.google.colaboratory.intrinsic+json": {
              "type": "string"
            }
          },
          "metadata": {},
          "execution_count": 18
        }
      ],
      "source": [
        "\n",
        "pose.annotated_sequence()"
      ]
    },
    {
      "cell_type": "code",
      "source": [
        "pose_clean.annotated_sequence()"
      ],
      "metadata": {
        "colab": {
          "base_uri": "https://localhost:8080/",
          "height": 142
        },
        "id": "5lF51QcO0NHi",
        "outputId": "fd76f4a3-1429-4c05-8a59-cec86a00775e"
      },
      "id": "5lF51QcO0NHi",
      "execution_count": null,
      "outputs": [
        {
          "output_type": "execute_result",
          "data": {
            "text/plain": [
              "'N[ASN:NtermProteinFull]AVPRPKLVVGLVVDQMRWDYLYRYYSKYGEGGFKRMLNTGYSLNNVHIDYVPTVAIGHTSIFTGSVPSIHGIAGNDWYDKELGKSVYCTSDETVQPVGTTSNSVGQHSPRNLWSTTVTDQLGLATNFTSKVVGVSLKDRASILPAGHNPTGAFWFDDTTGKFITSTYYTKELPKWVNDFNNKNVPAQLVANGWNTLLPINQYTESSEDNVEWEGLLGSKKTPTFPYTDLAKDYEAKKGLIRTTPFGNTLTLQMADAAIDGNQMGVDDITDFLTVNLASTDYVGHNFGPNSIEVEDTYLRLDRDLADFFNNLDKKVGKGNYLVFLSADHGAAHSVGFMQAHKMPTGFFDMKKEMNAKLKQKFGADNIIAAAMNYQVYFDRKVLADSKLELDDVRDYVMTELKKEPSVLYVLSTDEIWESSIPEPIKSRVINGYNWKRSGDIQIISKDGYLSAYSKKGTTHSVWNSYDSHIPLLFMGWGIKQGESNQPYHMTDIAPTVSSLLKIQFPSGAVGKPITEVIG[GLY:CtermProteinFull]'"
            ],
            "application/vnd.google.colaboratory.intrinsic+json": {
              "type": "string"
            }
          },
          "metadata": {},
          "execution_count": 19
        }
      ]
    },
    {
      "cell_type": "markdown",
      "id": "eb80fb22",
      "metadata": {
        "id": "eb80fb22"
      },
      "source": [
        "**Advanced exercise**\n",
        "\n",
        "Write a program to automatically find the differences between these two sequences."
      ]
    },
    {
      "cell_type": "code",
      "execution_count": null,
      "id": "e1c9a347",
      "metadata": {
        "id": "e1c9a347"
      },
      "outputs": [],
      "source": [
        "# 1. Cargar el archivo PDB y construir la pose original\n",
        "# Usamos la función 'pose_from_pdb' de PyRosetta para cargar el archivo PDB\n",
        "# La ruta al archivo PDB ya está definida en la variable 'pdb_file'\n",
        "pose = pose_from_pdb(pdb_file)\n",
        "print(\"Pose original cargada.\")\n",
        "\n",
        "# 2. Limpiar la pose con cleanATOM\n",
        "# Usamos la función 'cleanATOM' del toolbox de PyRosetta para crear un archivo PDB limpio\n",
        "# La ruta al archivo PDB limpio ya está definida en la variable 'pdb_file_clean'\n",
        "cleanATOM(pdb_file)\n",
        "print(f\"Archivo PDB limpio creado: {pdb_file_clean}\")\n",
        "\n",
        "# Cargar la pose limpia desde el nuevo archivo PDB\n",
        "pose_clean = pose_from_pdb(pdb_file_clean)\n",
        "print(\"Pose limpia cargada.\")\n",
        "\n",
        "# 3. Sacar la secuencia  de cada pose (original y clean)\n",
        "# Usamos el método 'sequence()' de cada pose para obtener la secuencia anotada\n",
        "sequence_original = pose.sequence()\n",
        "sequence_clean = pose_clean.sequence()\n",
        "\n",
        "print(\"\\nSecuencia anotada de la pose original:\")\n",
        "print(sequence_original)\n",
        "\n",
        "print(\"\\nSecuencia anotada de la pose limpia:\")\n",
        "print(sequence_clean)\n",
        "\n",
        "# 4. Comparar las secuencias y decir las diferencias.\n",
        "# Vamos a comparar las dos secuencias caracter a caracter para encontrar las diferencias\n",
        "print(\"\\nComparando secuencias y mostrando diferencias:\")\n",
        "\n",
        "# Aseguramos que podemos iterar hasta el final de la secuencia más corta\n",
        "min_len = min(len(sequence_original), len(sequence_clean))\n",
        "\n",
        "differences_found = False\n",
        "for i in range(min_len):\n",
        "    if sequence_original[i] != sequence_clean[i]:\n",
        "        print(f\"Diferencia en la posición {i}:\")\n",
        "        print(f\"  Original: {sequence_original[i]}\")\n",
        "        print(f\"  Limpia:   {sequence_clean[i]}\")\n",
        "        differences_found = True\n",
        "\n",
        "# Si una secuencia es más larga que la otra, también lo reportamos como una diferencia\n",
        "if len(sequence_original) > min_len:\n",
        "    print(f\"\\nLa secuencia original es más larga. Caracteres adicionales:\")\n",
        "    print(sequence_original[min_len:])\n",
        "    differences_found = True\n",
        "elif len(sequence_clean) > min_len:\n",
        "    print(f\"\\nLa secuencia limpia es más larga. Caracteres adicionales:\")\n",
        "    print(sequence_clean[min_len:])\n",
        "    differences_found = True\n",
        "\n",
        "if not differences_found:\n",
        "    print(\"No se encontraron diferencias en las secuencias (hasta la longitud de la secuencia más corta).\")\n",
        "\n",
        "# Nota: La comparación caracter a caracter puede no ser ideal para diferencias complejas\n",
        "# como la eliminación de residuos completos, pero mostrará dónde las cadenas de texto difieren.\n",
        "# Las salidas de 'annotated_sequence()' ya nos dan una buena indicación de los residuos eliminados o modificados."
      ]
    }
  ],
  "metadata": {
    "kernelspec": {
      "display_name": "Python 3 (ipykernel)",
      "language": "python",
      "name": "python3"
    },
    "language_info": {
      "codemirror_mode": {
        "name": "ipython",
        "version": 3
      },
      "file_extension": ".py",
      "mimetype": "text/x-python",
      "name": "python",
      "nbconvert_exporter": "python",
      "pygments_lexer": "ipython3",
      "version": "3.9.6"
    },
    "colab": {
      "provenance": [],
      "include_colab_link": true
    }
  },
  "nbformat": 4,
  "nbformat_minor": 5
}