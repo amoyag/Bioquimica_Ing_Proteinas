{
  "cells": [
    {
      "cell_type": "markdown",
      "metadata": {
        "id": "view-in-github",
        "colab_type": "text"
      },
      "source": [
        "<a href=\"https://colab.research.google.com/github/amoyag/Bioquimica_Ing_Proteinas/blob/main/3-Scoring_function/clase3-score_alumnos.ipynb\" target=\"_parent\"><img src=\"https://colab.research.google.com/assets/colab-badge.svg\" alt=\"Open In Colab\"/></a>"
      ]
    },
    {
      "cell_type": "markdown",
      "metadata": {
        "id": "QqGgDr-pbi9L"
      },
      "source": [
        "<!--NOTEBOOK_HEADER-->\n",
        "*This notebook contains material from [PyRosetta](https://RosettaCommons.github.io/PyRosetta.notebooks);\n",
        "content is available [on Github](https://github.com/RosettaCommons/PyRosetta.notebooks.git).*"
      ]
    },
    {
      "cell_type": "markdown",
      "metadata": {
        "id": "sl28DRizbi9S"
      },
      "source": [
        "# Working the Scoring function\n",
        "Keywords: score function, ScoreFunction(), get_score_function(), set_weight(), show(), etable_atom_pair_energies(), Atom objects, get_hbonds(), nhbonds(), residue_hbonds()"
      ]
    },
    {
      "cell_type": "markdown",
      "metadata": {
        "id": "8oY7gezNbi9S"
      },
      "source": [
        "## Init PyRosetta"
      ]
    },
    {
      "cell_type": "code",
      "execution_count": null,
      "metadata": {
        "id": "1gryGoVGbi9T"
      },
      "outputs": [],
      "source": [
        "!pip install pyrosettacolabsetup\n",
        "import pyrosettacolabsetup; pyrosettacolabsetup.install_pyrosetta()\n",
        "import pyrosetta; pyrosetta.init()\n",
        "from pyrosetta import *\n",
        "\n",
        "#init()\n",
        "#import os\n",
        "#notebook_path = os.path.abspath(\"clase2-score.ipynb\")\n"
      ]
    },
    {
      "cell_type": "markdown",
      "metadata": {
        "id": "mmxEmJq4bi9U"
      },
      "source": [
        "## Load pdb files"
      ]
    },
    {
      "cell_type": "code",
      "execution_count": null,
      "metadata": {
        "collapsed": true,
        "id": "gfE6Vpnsbi9U"
      },
      "outputs": [],
      "source": [
        "pdb_file = \"PATH_TO_FILE/5tj3.pdb\"\n",
        "clean_pdb_file = \"PATH_TO_FILE/5tj3.clean.pdb\"\n",
        "pose = pose_from_pdb(pdb_file)\n",
        "pose_clean = pose_from_pdb(clean_pdb_file)"
      ]
    },
    {
      "cell_type": "markdown",
      "metadata": {
        "id": "cv0NOJ1Gbi9U"
      },
      "source": [
        "## Rosetta Energy Score Functions\n"
      ]
    },
    {
      "cell_type": "markdown",
      "metadata": {
        "id": "0rVyC8cTbi9U"
      },
      "source": [
        "A basic function of Rosetta is calculating the energy or score of a biomolecule. This is important for inspecting the energies of a biomolecule at the whole protein, per-residue, and per-atom level.  \n",
        "\n",
        "Rosetta has a standard energy function for all-atom calculations as well as several scoring functions for low-resolution protein representations. See https://www.ncbi.nlm.nih.gov/pubmed/28430426 for a review on the all-atom score functions.\n",
        "\n",
        "You can also tailor an energy function by including scoring terms of your choice with custom weights."
      ]
    },
    {
      "cell_type": "markdown",
      "metadata": {
        "id": "M8cLIPjxbi9V"
      },
      "source": [
        "To score a protein, you will begin by defining a score function using the `get_score_function(is_fullatom: bool)` method in the `pyrosetta.teaching` namespace. Specifying `True` will return the default `ref2015` all-atom energy function, while `False` will specify the default centroid score function.\n",
        "\n",
        "Create a PyRosetta score function"
      ]
    },
    {
      "cell_type": "code",
      "execution_count": null,
      "metadata": {
        "id": "pW4L-IPPbi9V"
      },
      "outputs": [],
      "source": [
        "from pyrosetta.teaching import *\n",
        "\n",
        "sfxn = get_score_function(True)"
      ]
    },
    {
      "cell_type": "markdown",
      "metadata": {
        "id": "AQ_Z9Ls6bi9V"
      },
      "source": [
        "You can see the terms, weights, and energy method options by printing the score function:\n",
        "\n",
        "```\n",
        "print(sfxn)\n",
        "```"
      ]
    },
    {
      "cell_type": "code",
      "execution_count": null,
      "metadata": {
        "id": "alCdieM2bi9V"
      },
      "outputs": [],
      "source": [
        "print(sfxn)"
      ]
    },
    {
      "cell_type": "markdown",
      "metadata": {
        "id": "fZljaXv-bi9V"
      },
      "source": [
        "**Exercise. List the terms in the energy function and their relative weights**\n",
        "\n",
        "**Hint:** look at the top line that starts with 'weights'"
      ]
    },
    {
      "cell_type": "markdown",
      "metadata": {
        "id": "ORYdEXSZbi9W"
      },
      "source": []
    },
    {
      "cell_type": "markdown",
      "metadata": {
        "id": "D3PLRzMrbi9W"
      },
      "source": [
        "### Custom energy functions\n",
        "\n",
        "You can also create a custom energy function that includes select terms. Typically, creating a whole new score function is unneccesary because the current one works well in most cases. However, tweaking the current energy function by reassigning weights and adding certain energy terms can be useful.\n",
        "\n",
        "Here, we will make an example energy function with only the van der Waals attractive and repulsive terms, both with weights of 1. We need to use the `set_weight()`. Make a new `ScoreFunction` and set the weights accordingly. This is how we set the full-atom attractive (`fa_atr`) and the full-atom repulsive (`fa_rep`) terms.\n",
        "\n",
        "```\n",
        "sfxn2 = ScoreFunction()\n",
        "sfxn2.set_weight(fa_atr, 1.0)\n",
        "sfxn2.set_weight(fa_rep, 1.0)\n",
        "```"
      ]
    },
    {
      "cell_type": "code",
      "execution_count": null,
      "metadata": {
        "collapsed": true,
        "id": "I1PmwU63bi9W"
      },
      "outputs": [],
      "source": [
        "sfxn2 = ScoreFunction()\n",
        "sfxn2.set_weight(fa_atr, 1.0)\n",
        "sfxn2.set_weight(fa_rep, 1.0)"
      ]
    },
    {
      "cell_type": "markdown",
      "metadata": {
        "id": "PG-fLmnpbi9W"
      },
      "source": [
        "Lets compare the score of `pose_clean` using the full-atom `ScoreFunction` versus the `ScoreFunction` we made above using only the attractive and repulsive terms.\n",
        "\n",
        "**Exercise. Print the total energy of `pose_clean` using  the `sfxn` score function.\n",
        "Then, print the attractive and repulsive energy only using the custom `sfxn2` score function.**\n",
        "\n"
      ]
    },
    {
      "cell_type": "code",
      "execution_count": null,
      "metadata": {
        "id": "R0slS7dKbi9W"
      },
      "outputs": [],
      "source": []
    },
    {
      "cell_type": "code",
      "execution_count": null,
      "metadata": {
        "id": "Uej5Tnkbbi9X"
      },
      "outputs": [],
      "source": []
    },
    {
      "cell_type": "markdown",
      "metadata": {
        "id": "wZ-u01Cibi9X"
      },
      "source": [
        "### Energy Breakdown\n",
        "Using the full-atom `ScoreFunction` `sfxn`, break the energy of `pose_clean` down into its individual pieces with the `sfxn.show()` method."
      ]
    },
    {
      "cell_type": "code",
      "execution_count": null,
      "metadata": {
        "id": "P6jwbhDubi9X"
      },
      "outputs": [],
      "source": [
        "sfxn.show(pose_clean)"
      ]
    },
    {
      "cell_type": "markdown",
      "metadata": {
        "id": "naAvnq3hbi9X"
      },
      "source": [
        "**Exercise. Which are the three most dominant contributions, and what are their values? Is this what you would have expected? Why?** Note which terms are positive and negative"
      ]
    },
    {
      "cell_type": "markdown",
      "metadata": {
        "id": "ydqatbekbi9X"
      },
      "source": []
    },
    {
      "cell_type": "markdown",
      "metadata": {
        "id": "8yc3Chhobi9X"
      },
      "source": [
        "Unweighted, individual component energies of each residue in a structure are stored in the `Pose` object and can be accessed by the `energies()` method.\n",
        "\n",
        "Note: The _backbone_ hydrogen-bonding terms for each residue are not available from the `Energies` object. You can get them by using EnergyMethodOptions. See http://www.pyrosetta.org/documentation#TOC-Hydrogen-Bonds-and-Hydrogen-Bond-Scoring."
      ]
    },
    {
      "cell_type": "markdown",
      "metadata": {
        "id": "dD76yzKlbi9X"
      },
      "source": [
        "**Exercise.** What are the total van der Waals, solvation, and hydrogen-bonding contributions of residue 24?"
      ]
    },
    {
      "cell_type": "code",
      "source": [],
      "metadata": {
        "id": "zYvE74FMfLq-"
      },
      "execution_count": null,
      "outputs": []
    },
    {
      "cell_type": "markdown",
      "metadata": {
        "id": "2QDqdSGMbi9Y"
      },
      "source": []
    },
    {
      "cell_type": "markdown",
      "metadata": {
        "id": "aggFaNIobi9Y"
      },
      "source": [
        "The van der Waals, solvation, and electrostatic terms are atom-atom pairwise energies calculated from a pre-tabulated lookup table, dependent upon the distance between the two atoms and their types. You can access this lookup table, called the `etable` directly to check these energy calculations on an atom-by-atom basis. Use the `pyrosetta.etable_atom_pair_energies` function which returns scores for attractive, repulsive, solvation and electrostatic potentials.\n",
        "\n",
        "(Note that the `pyrosetta.etable_atom_pair_energies()` function requires `Atom` objects, not the `AtomID` objects we saw earlier.\n",
        "\n",
        "You can access the `Atom` object for a residue with `residue.atom_index(\"\")` and you can access to a residue with `pose.residue()`. For instance to access the Calpha of residue 15 of the pose `pose` you can use:\n",
        "\n",
        "```\n",
        "res15 = pose.residue(15)\n",
        "res15_atomCA = res15.atom_index(\"CA\")\n",
        "```\n",
        "For more info, look at the [documentation](https://graylab.jhu.edu/PyRosetta.documentation/pyrosetta.toolbox.atom_pair_energy.html?highlight=etable_atom_pair_energies#pyrosetta.toolbox.atom_pair_energy.etable_atom_pair_energies).)\n"
      ]
    },
    {
      "cell_type": "code",
      "execution_count": null,
      "metadata": {
        "id": "di_dfr2abi9Y"
      },
      "outputs": [],
      "source": [
        "help(pyrosetta.etable_atom_pair_energies)"
      ]
    },
    {
      "cell_type": "markdown",
      "metadata": {
        "id": "ckCNPbD5bi9Y"
      },
      "source": [
        "**Exercise. What are the attractive, repulsive, solvation, and electrostatic components between the nitrogen of residue 24 and the oxygen of residue 20?**"
      ]
    },
    {
      "cell_type": "code",
      "execution_count": null,
      "metadata": {
        "id": "AixvHL2rbi9Y"
      },
      "outputs": [],
      "source": [
        "res20 = pose.residue(20)\n",
        "res20_atomCA = res20.atom_index(\"O\")"
      ]
    }
  ],
  "metadata": {
    "kernelspec": {
      "display_name": "Python 3 (ipykernel)",
      "language": "python",
      "name": "python3"
    },
    "language_info": {
      "codemirror_mode": {
        "name": "ipython",
        "version": 3
      },
      "file_extension": ".py",
      "mimetype": "text/x-python",
      "name": "python",
      "nbconvert_exporter": "python",
      "pygments_lexer": "ipython3",
      "version": "3.9.6"
    },
    "toc": {
      "base_numbering": 1,
      "nav_menu": {},
      "number_sections": true,
      "sideBar": true,
      "skip_h1_title": false,
      "title_cell": "Table of Contents",
      "title_sidebar": "Contents",
      "toc_cell": false,
      "toc_position": {},
      "toc_section_display": true,
      "toc_window_display": false
    },
    "colab": {
      "provenance": [],
      "include_colab_link": true
    }
  },
  "nbformat": 4,
  "nbformat_minor": 0
}